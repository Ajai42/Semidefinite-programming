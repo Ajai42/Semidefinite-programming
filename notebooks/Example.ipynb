{
 "cells": [
  {
   "cell_type": "code",
   "execution_count": 1,
   "metadata": {},
   "outputs": [],
   "source": [
    "import sys\n",
    "import os\n",
    "\n",
    "# Add the project root to the search path\n",
    "sys.path.append(os.path.abspath(\"..\"))\n",
    "\n",
    "# Import from src\n",
    "from src import *\n"
   ]
  },
  {
   "cell_type": "code",
   "execution_count": 2,
   "metadata": {},
   "outputs": [
    {
     "name": "stdout",
     "output_type": "stream",
     "text": [
      "instance in cnf form\n"
     ]
    },
    {
     "data": {
      "text/plain": [
       "[(1, -2), (1, 3), (1, -1), (3, -1), (3, -3), (2, 3)]"
      ]
     },
     "execution_count": 2,
     "metadata": {},
     "output_type": "execute_result"
    }
   ],
   "source": [
    "# Generate random max-2SAT instance\n",
    "\n",
    "N = 3    # number of variables\n",
    "M = N*2   # number of clauses\n",
    "\n",
    "instance = generate_max_2_sat(N, M)\n",
    "print(\"instance in cnf form\")\n",
    "instance"
   ]
  },
  {
   "cell_type": "code",
   "execution_count": 3,
   "metadata": {},
   "outputs": [
    {
     "name": "stdout",
     "output_type": "stream",
     "text": [
      "Solution : [ 1 -1  1]\n",
      "Number of violated clauses: 0\n"
     ]
    }
   ],
   "source": [
    "# Get the exact solution using rc2 solver\n",
    "\n",
    "sol, sol_nvc = rc2_solver(N, instance)\n",
    "print(\"Solution :\", sol)\n",
    "print(\"Number of violated clauses:\", sol_nvc)"
   ]
  },
  {
   "cell_type": "code",
   "execution_count": 4,
   "metadata": {},
   "outputs": [],
   "source": [
    "# using SDP on the instance\n",
    "\n",
    "Y =SDP_max_sat(N, instance, \"Mosek\")"
   ]
  },
  {
   "cell_type": "code",
   "execution_count": 5,
   "metadata": {},
   "outputs": [],
   "source": [
    "# rounding the SDP solution\n",
    "\n",
    "NVC = rounding_87(Y, N, instance)"
   ]
  },
  {
   "cell_type": "code",
   "execution_count": 6,
   "metadata": {},
   "outputs": [
    {
     "name": "stdout",
     "output_type": "stream",
     "text": [
      "Average approx ratio : 0.98425\n",
      "Best approx ratio    : 1.0\n",
      "Worst approx ratio   : 0.8333333333333334\n"
     ]
    }
   ],
   "source": [
    "print(\"Average approx ratio :\",(M-np.mean(NVC))/(M-sol_nvc))\n",
    "print(\"Best approx ratio    :\",(M-np.min(NVC))/(M-sol_nvc))\n",
    "print(\"Worst approx ratio   :\",(M-np.max(NVC))/(M-sol_nvc))"
   ]
  },
  {
   "cell_type": "code",
   "execution_count": 7,
   "metadata": {},
   "outputs": [
    {
     "data": {
      "text/plain": [
       "array([[ 0.99999999,  0.57715689, -0.33353071,  0.96227838],\n",
       "       [ 0.57715689,  0.99999999,  0.57737254,  0.33320693],\n",
       "       [-0.33353071,  0.57737254,  0.99999999, -0.57743733],\n",
       "       [ 0.96227838,  0.33320693, -0.57743733,  0.99999998]])"
      ]
     },
     "execution_count": 7,
     "metadata": {},
     "output_type": "execute_result"
    }
   ],
   "source": [
    "Y"
   ]
  },
  {
   "cell_type": "code",
   "execution_count": 8,
   "metadata": {},
   "outputs": [
    {
     "data": {
      "text/plain": [
       "array([[ 0.65024407,  0.39067896, -0.1988833 ,  0.62048208],\n",
       "       [ 0.39067896,  0.75760947,  0.48362653,  0.19875411],\n",
       "       [-0.1988833 ,  0.48362653,  0.75750356, -0.39081857],\n",
       "       [ 0.62048208,  0.19875411, -0.39081857,  0.65019967]])"
      ]
     },
     "execution_count": 8,
     "metadata": {},
     "output_type": "execute_result"
    }
   ],
   "source": [
    "u = np.random.randn(N + 1)  # Normal vector for a random hyperplane\n",
    "# x = np.sign(Y.value @ u)    # Project SDP solution to ±1 solution\n",
    "# x = np.sign((sp.linalg.sqrtm(Y.value).real) @ u)    # Project SDP solution to ±1 solution\n",
    "eigenvalues, eigenvectors = np.linalg.eigh(Y)\n",
    "# Compute the square root\n",
    "Sqrt_y = eigenvectors @ np.diag(np.sqrt(np.maximum(eigenvalues, 0))) @ eigenvectors.T\n",
    "x = np.sign(Sqrt_y @ u)\n",
    "solution = x[0] * x[1:]     # Extract solution in ±1 format\n",
    "nvc = violated_clauses(instance, solution)  # Count violated clauses\n",
    "Sqrt_y"
   ]
  }
 ],
 "metadata": {
  "kernelspec": {
   "display_name": "Python 3",
   "language": "python",
   "name": "python3"
  },
  "language_info": {
   "codemirror_mode": {
    "name": "ipython",
    "version": 3
   },
   "file_extension": ".py",
   "mimetype": "text/x-python",
   "name": "python",
   "nbconvert_exporter": "python",
   "pygments_lexer": "ipython3",
   "version": "3.10.12"
  }
 },
 "nbformat": 4,
 "nbformat_minor": 2
}
